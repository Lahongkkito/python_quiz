{
 "cells": [
  {
   "cell_type": "markdown",
   "metadata": {},
   "source": [
    "Q1. \n",
    "- 문자열 offset을 이용하여 짝수만 거꾸로 출력되는 코드를 작성하세요.\n",
    "- data = \"0123456789\""
   ]
  },
  {
   "cell_type": "code",
   "execution_count": 1,
   "metadata": {},
   "outputs": [
    {
     "name": "stdout",
     "output_type": "stream",
     "text": [
      "86420\n"
     ]
    }
   ],
   "source": [
    "data = \"0123456789\"\n",
    "result = data[::2][::-1]\n",
    "print(result)"
   ]
  },
  {
   "cell_type": "markdown",
   "metadata": {},
   "source": [
    "-----\n",
    "\n",
    "Q2. \n",
    "- \"국어 점수는 80점, 영어 점수는 90점, 수학 점수는 70점\"\n",
    "- 위 데이터를 리스트, 튜플, 딕셔너리로 나타내세요."
   ]
  },
  {
   "cell_type": "code",
   "execution_count": 2,
   "metadata": {},
   "outputs": [],
   "source": [
    "subjects = [\"국어\", \"영어\", \"수학\",]\n",
    "points = [80, 90, 70]"
   ]
  },
  {
   "cell_type": "code",
   "execution_count": 3,
   "metadata": {},
   "outputs": [
    {
     "name": "stdout",
     "output_type": "stream",
     "text": [
      "[('국어', 80), ('영어', 90), ('수학', 70)]\n"
     ]
    }
   ],
   "source": [
    "# List\n",
    "list(zip(subjects, points))\n",
    "ls = [(\"국어\", 80), (\"영어\", 90), (\"수학\", 70),]\n",
    "print(ls)"
   ]
  },
  {
   "cell_type": "code",
   "execution_count": 4,
   "metadata": {},
   "outputs": [
    {
     "name": "stdout",
     "output_type": "stream",
     "text": [
      "(('국어', 80), ('영어', 90), ('수학', 70))\n"
     ]
    }
   ],
   "source": [
    "#Tuple\n",
    "tp = ((\"국어\",80), (\"영어\", 90), (\"수학\", 70),)\n",
    "print(tp)"
   ]
  },
  {
   "cell_type": "code",
   "execution_count": 5,
   "metadata": {},
   "outputs": [
    {
     "name": "stdout",
     "output_type": "stream",
     "text": [
      "{'국어': 80, '영어': 90, '수학': 70}\n"
     ]
    }
   ],
   "source": [
    "#Dictionary\n",
    "dic = {\"국어\":80, \"영어\":90, \"수학\":70,}\n",
    "print(dic)"
   ]
  },
  {
   "cell_type": "markdown",
   "metadata": {},
   "source": [
    "------\n",
    "Q3. \n",
    "- 리스트 데이터의 중복을 제거하고 내림차순으로 정렬하세요.\n",
    "- ls = [1, 3, 2, 1, 3, 5, 7, 8, 7,]"
   ]
  },
  {
   "cell_type": "code",
   "execution_count": 6,
   "metadata": {},
   "outputs": [],
   "source": [
    "ls = [1, 3, 2, 1, 3, 5, 7, 8, 7,]"
   ]
  },
  {
   "cell_type": "code",
   "execution_count": 7,
   "metadata": {},
   "outputs": [
    {
     "name": "stdout",
     "output_type": "stream",
     "text": [
      "[1, 2, 3, 5, 7, 8]\n"
     ]
    }
   ],
   "source": [
    "# 중복제거\n",
    "ls = list(set(ls))\n",
    "print(ls)"
   ]
  },
  {
   "cell_type": "code",
   "execution_count": 8,
   "metadata": {},
   "outputs": [
    {
     "name": "stdout",
     "output_type": "stream",
     "text": [
      "[1, 2, 3, 5, 7, 8]\n"
     ]
    }
   ],
   "source": [
    "# 오름차순 정렬\n",
    "ls.sort()\n",
    "print(ls)"
   ]
  },
  {
   "cell_type": "code",
   "execution_count": 9,
   "metadata": {},
   "outputs": [
    {
     "name": "stdout",
     "output_type": "stream",
     "text": [
      "[8, 7, 5, 3, 2, 1]\n"
     ]
    }
   ],
   "source": [
    "# 역순 정렬\n",
    "ls = ls[::-1]\n",
    "print(ls)"
   ]
  },
  {
   "cell_type": "markdown",
   "metadata": {},
   "source": [
    "--------\n",
    "\n",
    "Q4.\n",
    "- str_1, str_2 변수를 사용하여 data 변수에 hello python!이 저장되도록 코드를 작성하세요.\n",
    "- data 변수의 마지막 문자에 공백이 들어가면 안됩니다."
   ]
  },
  {
   "cell_type": "code",
   "execution_count": 10,
   "metadata": {},
   "outputs": [],
   "source": [
    "str_1 = \"hello \"\n",
    "str_2 = \"python \""
   ]
  },
  {
   "cell_type": "code",
   "execution_count": 11,
   "metadata": {},
   "outputs": [
    {
     "name": "stdout",
     "output_type": "stream",
     "text": [
      "hello python!\n",
      "hello python!\n"
     ]
    }
   ],
   "source": [
    "data1 = (str_1 + str_2).rstrip() + \"!\"\n",
    "data2 = (str_1 + str_2)[:-1] + \"!\"\n",
    "print(data1)\n",
    "print(data2)"
   ]
  },
  {
   "cell_type": "markdown",
   "metadata": {},
   "source": [
    "-------\n",
    "\n",
    "Q5.\n",
    "- str_1, str_2 변수가 선언되어 있는 상태에서 data 단어가 거꾸로 출력되도록 오프셋과 len함수를 이용해서 코드를 작성하세요."
   ]
  },
  {
   "cell_type": "code",
   "execution_count": 12,
   "metadata": {},
   "outputs": [],
   "source": [
    "str_1, str_2 = \"hello\", \"python\"\n",
    "data = str_1 + \" \" + str_2 + \"!\""
   ]
  },
  {
   "cell_type": "code",
   "execution_count": 13,
   "metadata": {},
   "outputs": [
    {
     "data": {
      "text/plain": [
       "'python hello!'"
      ]
     },
     "execution_count": 13,
     "metadata": {},
     "output_type": "execute_result"
    }
   ],
   "source": [
    "data[:-1][-len(str_2):] + \" \" + data[:len(str_1)] + \"!\""
   ]
  },
  {
   "cell_type": "code",
   "execution_count": 14,
   "metadata": {},
   "outputs": [
    {
     "data": {
      "text/plain": [
       "'python! hello'"
      ]
     },
     "execution_count": 14,
     "metadata": {},
     "output_type": "execute_result"
    }
   ],
   "source": [
    "# !이 없는 경우 \n",
    "\" \".join(data.split(\" \")[::-1])"
   ]
  },
  {
   "cell_type": "markdown",
   "metadata": {},
   "source": [
    "----------\n",
    "\n",
    "Q6.\n",
    "- \"Beautyful is better than ugly.\" 문장을 짧은 단어 순으로 정렬하는 코드를 작성하세요."
   ]
  },
  {
   "cell_type": "code",
   "execution_count": 15,
   "metadata": {},
   "outputs": [],
   "source": [
    "s = \"Beautyful is better than ugly.\""
   ]
  },
  {
   "cell_type": "code",
   "execution_count": 16,
   "metadata": {},
   "outputs": [
    {
     "name": "stdout",
     "output_type": "stream",
     "text": [
      "Is than ugly better beautyful.\n"
     ]
    }
   ],
   "source": [
    "result = s.lower()[:-1].split(\" \")\n",
    "result.sort(key=len)\n",
    "result = \" \".join(result)\n",
    "result = result[0].upper() + result[1:] + \".\"\n",
    "print(result)"
   ]
  }
 ],
 "metadata": {
  "kernelspec": {
   "display_name": "Python 3",
   "language": "python",
   "name": "python3"
  },
  "language_info": {
   "codemirror_mode": {
    "name": "ipython",
    "version": 3
   },
   "file_extension": ".py",
   "mimetype": "text/x-python",
   "name": "python",
   "nbconvert_exporter": "python",
   "pygments_lexer": "ipython3",
   "version": "3.7.4"
  }
 },
 "nbformat": 4,
 "nbformat_minor": 2
}
