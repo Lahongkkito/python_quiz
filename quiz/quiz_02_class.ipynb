{
 "cells": [
  {
   "cell_type": "markdown",
   "metadata": {},
   "source": [
    "Q1. 데이터를 클래스와 객체로 나타내세요.\n",
    "타율을 계산하는 함수를 추가\n",
    "객체를 만들어서 각 선수의 타율(안타/타석)을 출력해주세요.\n",
    "타율은 소수 3째자리까지 출력 (round)\n",
    "- a1_player - 476타석, 176안타\n",
    "- a2_player - 8975타, 6503안타"
   ]
  },
  {
   "cell_type": "code",
   "execution_count": 1,
   "metadata": {},
   "outputs": [],
   "source": [
    "class Player:\n",
    "    \n",
    "    def __init__(self, bb, hit):\n",
    "        self.bb = bb\n",
    "        self.hit = hit\n",
    "    \n",
    "    def avg(self):\n",
    "        return round(self.hit/self.bb, 3)"
   ]
  },
  {
   "cell_type": "code",
   "execution_count": 2,
   "metadata": {},
   "outputs": [],
   "source": [
    "a1_player = Player(476, 305) \n",
    "a2_player = Player(8975, 6503)"
   ]
  },
  {
   "cell_type": "code",
   "execution_count": 3,
   "metadata": {},
   "outputs": [],
   "source": [
    "a1_player.avg(), a2_player.avg()"
   ]
  },
  {
   "cell_type": "markdown",
   "metadata": {},
   "source": [
    "---------------\n",
    "\n",
    "Q2. 학생의 국어, 영어, 수학 점수를 입력받아서 총점과 평균을 구하는 클래스를 만드세요.\n",
    "- 학생 한명이 하나의 객체\n",
    "- 두가지 방법\n",
    "    - 생성자 함수에서 국어, 영어, 수학를 받도록 코드 작성\n",
    "    - 생성자 함수에서 과목의 갯수 제한 없이 데이터 받도록 코드 작성"
   ]
  },
  {
   "cell_type": "code",
   "execution_count": 4,
   "metadata": {},
   "outputs": [],
   "source": [
    "# 방법 1\n",
    "class Student:\n",
    "    \n",
    "    def __init__(self, korean, english, math):\n",
    "        self.korean = korean\n",
    "        self.english = english\n",
    "        self.math = math\n",
    "        \n",
    "    def total(self):\n",
    "        return self.korean + self.english + self.math\n",
    "    \n",
    "    def avg(self):\n",
    "        return round(self.total() / 3, 2)"
   ]
  },
  {
   "cell_type": "code",
   "execution_count": 5,
   "metadata": {},
   "outputs": [],
   "source": [
    "s1 = Student(98, 87, 78)\n",
    "s1.total(), s1.avg()"
   ]
  },
  {
   "cell_type": "code",
   "execution_count": 6,
   "metadata": {},
   "outputs": [],
   "source": [
    "# 방법 2\n",
    "class Student:\n",
    "    \n",
    "    def __init__(self, **kwargs):\n",
    "        self.datas = kwargs\n",
    "    \n",
    "    def total(self):\n",
    "        return sum(self.datas.values())\n",
    "    \n",
    "    def avg(self):\n",
    "        return round(self.total()/len(self.datas), 2)"
   ]
  },
  {
   "cell_type": "code",
   "execution_count": 7,
   "metadata": {},
   "outputs": [],
   "source": [
    "s2 = Student(korean=54, english=87, math=77,science=87)\n",
    "s2.total(), s2.avg()"
   ]
  },
  {
   "cell_type": "markdown",
   "metadata": {},
   "source": [
    "-------------\n",
    "\n",
    "Q3. 상속을 이용해서 아이폰 버전 1 ~ 3까지의 클래스를 작성해주세요.\n",
    "- 기능들은 print(기능이름)로 출력이 되도록 함수내용을 작성\n",
    "    - iPhone_1 : calling\n",
    "    - iPhone_2 : calling, send_msg\n",
    "    - iPhone_3 : calling, send_msg, internet"
   ]
  },
  {
   "cell_type": "code",
   "execution_count": 8,
   "metadata": {},
   "outputs": [],
   "source": [
    "class Iphone1:\n",
    "    \n",
    "    def calling(self):\n",
    "        print(\"calling\")    \n",
    "        \n",
    "class Iphone2(Iphone1):\n",
    "    \n",
    "    def send_msg(self):\n",
    "        print(\"send_msg\")\n",
    "        \n",
    "class Iphone3(Iphone2):\n",
    "    \n",
    "    def internet(self):\n",
    "        print(\"internet\")"
   ]
  },
  {
   "cell_type": "code",
   "execution_count": 9,
   "metadata": {},
   "outputs": [],
   "source": [
    "iphone1 = Iphone1()\n",
    "iphone2 = Iphone2()\n",
    "iphone3 = Iphone3()"
   ]
  },
  {
   "cell_type": "code",
   "execution_count": 10,
   "metadata": {},
   "outputs": [],
   "source": [
    "def show_func(obj):\n",
    "    return [var for var in dir(obj) if var[:2] != \"__\"]"
   ]
  },
  {
   "cell_type": "code",
   "execution_count": 11,
   "metadata": {},
   "outputs": [],
   "source": [
    "show_func(iphone1), show_func(iphone2), show_func(iphone3)"
   ]
  },
  {
   "cell_type": "markdown",
   "metadata": {},
   "source": [
    "-----------\n",
    "\n",
    "Q4. Starcraft Unit\n",
    "- Wizard, Warrior\n",
    "- wizard 공격력 10~50, 체력 100\n",
    "- warrior 공격력 20~30, 체력 120\n",
    "- 공격 기능과 상태 확인 기능"
   ]
  },
  {
   "cell_type": "code",
   "execution_count": 12,
   "metadata": {},
   "outputs": [],
   "source": [
    "import random\n",
    "\n",
    "class Unit:\n",
    "\n",
    "    def attack(self, obj):\n",
    "        attack_pow = random.randint(self.min_attack_pow, self.max_attack_pow)\n",
    "        obj.health -= attack_pow\n",
    "        obj.health = 0 if obj.health < 0 else obj.health \n",
    "        print(\"{} 공격력 {}로 공격!\".format(self.cls, attack_pow))\n",
    "        print(\"{} 남은 체력:{}\".format(obj.cls, obj.health)) \n",
    "        return obj.health\n",
    "    \n",
    "    def disp(self):\n",
    "        print(\"클래스:{}, 체력:{}, 최소공격력:{}, 최대공격력:{}\".format(self.cls, self.health, self.min_attack_pow, self.max_attack_pow))\n",
    "\n",
    "\n",
    "        \n",
    "class Wizard(Unit):\n",
    "    \n",
    "    def __init__(self):\n",
    "        self.cls = \"Wizard\"\n",
    "        self.health = 100\n",
    "        self.min_attack_pow = 10\n",
    "        self.max_attack_pow = 50\n",
    "\n",
    "        \n",
    "class Warrior(Unit):\n",
    "    \n",
    "    def __init__(self):\n",
    "        self.cls = \"Warrior\"\n",
    "        self.health = 120\n",
    "        self.min_attack_pow = 20\n",
    "        self.max_attack_pow = 30"
   ]
  },
  {
   "cell_type": "code",
   "execution_count": 13,
   "metadata": {},
   "outputs": [],
   "source": [
    "team1 = [Wizard(), Wizard(), Wizard(),]\n",
    "team2 = [Warrior(), Warrior(), Warrior(), Warrior(),]\n",
    "\n",
    "def fight(team1, team2):\n",
    "    \n",
    "    turn = 0\n",
    "    \n",
    "    while team1 and team2:\n",
    "        turn += 1\n",
    "        print(\"\\n턴:{}\".format(turn))\n",
    "        print(\"남은 유닛: 팀1:{}, 팀2:{}\".format(len(team1), len(team2)))\n",
    "        \n",
    "        print(\"team1 턴\")\n",
    "        health = team1[0].attack(team2[0])\n",
    "        if health == 0 :\n",
    "            del team2[0]\n",
    "            continue\n",
    "        \n",
    "        print(\"team2 턴\")\n",
    "        health = team2[0].attack(team1[0])\n",
    "        if health == 0 :\n",
    "            del team1[0]\n",
    "            continue\n",
    "\n",
    "    result = \"team1 승리\" if len(team1) > len(team2) else \"team2 승리\"\n",
    "    print(\"\\n결과:{}\".format(result))\n",
    "    print(\"남은 유닛: 팀1:{}, 팀2:{}\".format(len(team1), len(team2)))"
   ]
  },
  {
   "cell_type": "code",
   "execution_count": 14,
   "metadata": {
    "scrolled": false
   },
   "outputs": [
    {
     "name": "stdout",
     "output_type": "stream",
     "text": [
      "\n",
      "턴:1\n",
      "남은 유닛: 팀1:3, 팀2:4\n",
      "team1 턴\n",
      "Wizard 공격력 18로 공격!\n",
      "Warrior 남은 체력:102\n",
      "team2 턴\n",
      "Warrior 공격력 30로 공격!\n",
      "Wizard 남은 체력:70\n",
      "\n",
      "턴:2\n",
      "남은 유닛: 팀1:3, 팀2:4\n",
      "team1 턴\n",
      "Wizard 공격력 20로 공격!\n",
      "Warrior 남은 체력:82\n",
      "team2 턴\n",
      "Warrior 공격력 28로 공격!\n",
      "Wizard 남은 체력:42\n",
      "\n",
      "턴:3\n",
      "남은 유닛: 팀1:3, 팀2:4\n",
      "team1 턴\n",
      "Wizard 공격력 28로 공격!\n",
      "Warrior 남은 체력:54\n",
      "team2 턴\n",
      "Warrior 공격력 30로 공격!\n",
      "Wizard 남은 체력:12\n",
      "\n",
      "턴:4\n",
      "남은 유닛: 팀1:3, 팀2:4\n",
      "team1 턴\n",
      "Wizard 공격력 30로 공격!\n",
      "Warrior 남은 체력:24\n",
      "team2 턴\n",
      "Warrior 공격력 29로 공격!\n",
      "Wizard 남은 체력:0\n",
      "\n",
      "턴:5\n",
      "남은 유닛: 팀1:2, 팀2:4\n",
      "team1 턴\n",
      "Wizard 공격력 41로 공격!\n",
      "Warrior 남은 체력:0\n",
      "\n",
      "턴:6\n",
      "남은 유닛: 팀1:2, 팀2:3\n",
      "team1 턴\n",
      "Wizard 공격력 36로 공격!\n",
      "Warrior 남은 체력:84\n",
      "team2 턴\n",
      "Warrior 공격력 20로 공격!\n",
      "Wizard 남은 체력:80\n",
      "\n",
      "턴:7\n",
      "남은 유닛: 팀1:2, 팀2:3\n",
      "team1 턴\n",
      "Wizard 공격력 12로 공격!\n",
      "Warrior 남은 체력:72\n",
      "team2 턴\n",
      "Warrior 공격력 23로 공격!\n",
      "Wizard 남은 체력:57\n",
      "\n",
      "턴:8\n",
      "남은 유닛: 팀1:2, 팀2:3\n",
      "team1 턴\n",
      "Wizard 공격력 48로 공격!\n",
      "Warrior 남은 체력:24\n",
      "team2 턴\n",
      "Warrior 공격력 20로 공격!\n",
      "Wizard 남은 체력:37\n",
      "\n",
      "턴:9\n",
      "남은 유닛: 팀1:2, 팀2:3\n",
      "team1 턴\n",
      "Wizard 공격력 14로 공격!\n",
      "Warrior 남은 체력:10\n",
      "team2 턴\n",
      "Warrior 공격력 28로 공격!\n",
      "Wizard 남은 체력:9\n",
      "\n",
      "턴:10\n",
      "남은 유닛: 팀1:2, 팀2:3\n",
      "team1 턴\n",
      "Wizard 공격력 20로 공격!\n",
      "Warrior 남은 체력:0\n",
      "\n",
      "턴:11\n",
      "남은 유닛: 팀1:2, 팀2:2\n",
      "team1 턴\n",
      "Wizard 공격력 13로 공격!\n",
      "Warrior 남은 체력:107\n",
      "team2 턴\n",
      "Warrior 공격력 23로 공격!\n",
      "Wizard 남은 체력:0\n",
      "\n",
      "턴:12\n",
      "남은 유닛: 팀1:1, 팀2:2\n",
      "team1 턴\n",
      "Wizard 공격력 45로 공격!\n",
      "Warrior 남은 체력:62\n",
      "team2 턴\n",
      "Warrior 공격력 21로 공격!\n",
      "Wizard 남은 체력:79\n",
      "\n",
      "턴:13\n",
      "남은 유닛: 팀1:1, 팀2:2\n",
      "team1 턴\n",
      "Wizard 공격력 31로 공격!\n",
      "Warrior 남은 체력:31\n",
      "team2 턴\n",
      "Warrior 공격력 23로 공격!\n",
      "Wizard 남은 체력:56\n",
      "\n",
      "턴:14\n",
      "남은 유닛: 팀1:1, 팀2:2\n",
      "team1 턴\n",
      "Wizard 공격력 41로 공격!\n",
      "Warrior 남은 체력:0\n",
      "\n",
      "턴:15\n",
      "남은 유닛: 팀1:1, 팀2:1\n",
      "team1 턴\n",
      "Wizard 공격력 36로 공격!\n",
      "Warrior 남은 체력:84\n",
      "team2 턴\n",
      "Warrior 공격력 20로 공격!\n",
      "Wizard 남은 체력:36\n",
      "\n",
      "턴:16\n",
      "남은 유닛: 팀1:1, 팀2:1\n",
      "team1 턴\n",
      "Wizard 공격력 38로 공격!\n",
      "Warrior 남은 체력:46\n",
      "team2 턴\n",
      "Warrior 공격력 29로 공격!\n",
      "Wizard 남은 체력:7\n",
      "\n",
      "턴:17\n",
      "남은 유닛: 팀1:1, 팀2:1\n",
      "team1 턴\n",
      "Wizard 공격력 10로 공격!\n",
      "Warrior 남은 체력:36\n",
      "team2 턴\n",
      "Warrior 공격력 26로 공격!\n",
      "Wizard 남은 체력:0\n",
      "\n",
      "결과:team2 승리\n",
      "남은 유닛: 팀1:0, 팀2:1\n"
     ]
    }
   ],
   "source": [
    "fight(team1, team2)"
   ]
  }
 ],
 "metadata": {
  "kernelspec": {
   "display_name": "Python 3",
   "language": "python",
   "name": "python3"
  },
  "language_info": {
   "codemirror_mode": {
    "name": "ipython",
    "version": 3
   },
   "file_extension": ".py",
   "mimetype": "text/x-python",
   "name": "python",
   "nbconvert_exporter": "python",
   "pygments_lexer": "ipython3",
   "version": "3.7.4"
  }
 },
 "nbformat": 4,
 "nbformat_minor": 2
}
