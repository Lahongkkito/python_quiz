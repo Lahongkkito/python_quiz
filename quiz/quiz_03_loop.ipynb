{
 "cells": [
  {
   "cell_type": "markdown",
   "metadata": {},
   "source": [
    "Q1. 구구단 2~4단을 세로로 출력하는 코드를 만드세요. "
   ]
  },
  {
   "cell_type": "code",
   "execution_count": 1,
   "metadata": {},
   "outputs": [
    {
     "name": "stdout",
     "output_type": "stream",
     "text": [
      "2단\n",
      "2 * 1 = 2\n",
      "2 * 2 = 4\n",
      "2 * 3 = 6\n",
      "2 * 4 = 8\n",
      "2 * 5 = 10\n",
      "2 * 6 = 12\n",
      "2 * 7 = 14\n",
      "2 * 8 = 16\n",
      "2 * 9 = 18\n",
      "\n",
      "3단\n",
      "3 * 1 = 3\n",
      "3 * 2 = 6\n",
      "3 * 3 = 9\n",
      "3 * 4 = 12\n",
      "3 * 5 = 15\n",
      "3 * 6 = 18\n",
      "3 * 7 = 21\n",
      "3 * 8 = 24\n",
      "3 * 9 = 27\n",
      "\n",
      "4단\n",
      "4 * 1 = 4\n",
      "4 * 2 = 8\n",
      "4 * 3 = 12\n",
      "4 * 4 = 16\n",
      "4 * 5 = 20\n",
      "4 * 6 = 24\n",
      "4 * 7 = 28\n",
      "4 * 8 = 32\n",
      "4 * 9 = 36\n",
      "\n"
     ]
    }
   ],
   "source": [
    "start, end = 2, 4\n",
    "for num1 in range(start, end+1):\n",
    "    print(\"{}단\".format(num1))\n",
    "    for num2 in range(1, 10):\n",
    "        print(\"{} * {} = {}\".format(num1, num2, num1*num2))\n",
    "    print()"
   ]
  },
  {
   "cell_type": "markdown",
   "metadata": {},
   "source": [
    "-------------\n",
    "Q2. 구구단을 가로로 출력하는 코드를 만드세요. "
   ]
  },
  {
   "cell_type": "code",
   "execution_count": 2,
   "metadata": {},
   "outputs": [
    {
     "name": "stdout",
     "output_type": "stream",
     "text": [
      "2단\t3단\t4단\t5단\t6단\t7단\t8단\t9단\t\n",
      "2*1=2\t3*1=3\t4*1=4\t5*1=5\t6*1=6\t7*1=7\t8*1=8\t9*1=9\t\n",
      "2*2=4\t3*2=6\t4*2=8\t5*2=10\t6*2=12\t7*2=14\t8*2=16\t9*2=18\t\n",
      "2*3=6\t3*3=9\t4*3=12\t5*3=15\t6*3=18\t7*3=21\t8*3=24\t9*3=27\t\n",
      "2*4=8\t3*4=12\t4*4=16\t5*4=20\t6*4=24\t7*4=28\t8*4=32\t9*4=36\t\n",
      "2*5=10\t3*5=15\t4*5=20\t5*5=25\t6*5=30\t7*5=35\t8*5=40\t9*5=45\t\n",
      "2*6=12\t3*6=18\t4*6=24\t5*6=30\t6*6=36\t7*6=42\t8*6=48\t9*6=54\t\n",
      "2*7=14\t3*7=21\t4*7=28\t5*7=35\t6*7=42\t7*7=49\t8*7=56\t9*7=63\t\n",
      "2*8=16\t3*8=24\t4*8=32\t5*8=40\t6*8=48\t7*8=56\t8*8=64\t9*8=72\t\n",
      "2*9=18\t3*9=27\t4*9=36\t5*9=45\t6*9=54\t7*9=63\t8*9=72\t9*9=81\t\n"
     ]
    }
   ],
   "source": [
    "for num in range(2, 10):\n",
    "    print(\"{}단\".format(num), end=\"\\t\")\n",
    "print()\n",
    "    \n",
    "for num2 in range(1, 10):\n",
    "    for num1 in range(2, 10):\n",
    "        print(\"{}*{}={}\".format(num1, num2, num1*num2), end=\"\\t\")\n",
    "    print()"
   ]
  },
  {
   "cell_type": "markdown",
   "metadata": {},
   "source": [
    "----------\n",
    "Q3. 숫자를 입력했을때 피라미드 형태릐 별이 출력되도록 코드를 작성하세요.  "
   ]
  },
  {
   "cell_type": "code",
   "execution_count": 3,
   "metadata": {},
   "outputs": [
    {
     "name": "stdout",
     "output_type": "stream",
     "text": [
      "9\n",
      "    *\n",
      "   ***\n",
      "  *****\n",
      " *******\n",
      "*********\n"
     ]
    }
   ],
   "source": [
    "number = int(input())\n",
    "space = number // 2\n",
    "for num in range(1, number +1, 2):\n",
    "    print(\" \" * space + \"*\" * num)\n",
    "    space -= 1"
   ]
  },
  {
   "cell_type": "markdown",
   "metadata": {},
   "source": [
    "----------\n",
    "Q4.\n",
    "- kim씨 성을 가진 사람은 데이터에서 제거하고\n",
    "- lee씨 성을 가진 사람은 성을 삭제하세요."
   ]
  },
  {
   "cell_type": "code",
   "execution_count": 4,
   "metadata": {},
   "outputs": [],
   "source": [
    "names = [\"kim test\", \"park python\", \"lee data\", \"jung science\", \"lee school\"]"
   ]
  },
  {
   "cell_type": "code",
   "execution_count": 5,
   "metadata": {},
   "outputs": [
    {
     "data": {
      "text/plain": [
       "['park python', 'data', 'jung science', 'school']"
      ]
     },
     "execution_count": 5,
     "metadata": {},
     "output_type": "execute_result"
    }
   ],
   "source": [
    "result = [\n",
    "    \" \".join(name.split(\" \")[1:]) if name.split(\" \")[0].upper() == \"LEE\" else name\n",
    "    for name in names\n",
    "    if name.split(\" \")[0].upper() != \"KIM\"\n",
    "]\n",
    "result"
   ]
  },
  {
   "cell_type": "markdown",
   "metadata": {},
   "source": [
    "-----\n",
    "\n",
    "Q5.\n",
    "- 1 ~ 45까지 랜덤한 숫자6개의 로또 번호를 출력하는 코드를 만드세요.\n",
    "- 중복이 되면 안됩니다."
   ]
  },
  {
   "cell_type": "code",
   "execution_count": 6,
   "metadata": {},
   "outputs": [],
   "source": [
    "import random\n",
    "\n",
    "lotto = []\n",
    "\n",
    "# TODO : while, break, if, in, list, append, sort\n",
    "while True:\n",
    "    \n",
    "    # 랜덤한 숫자 뽑기\n",
    "    number = random.randint(1, 45)\n",
    "    \n",
    "    # 숫자 리스트에서 중복 확인해서 중복되지 않은 숫자는 리스트에 추가하기\n",
    "    if number not in lotto:\n",
    "        lotto.append(number)\n",
    "    \n",
    "    # 숫자 리스트가 6개이면 소팅하고 반복문 빠져 나오기\n",
    "    if len(lotto) >= 6:\n",
    "        lotto.sort()\n",
    "        break"
   ]
  },
  {
   "cell_type": "code",
   "execution_count": 7,
   "metadata": {},
   "outputs": [
    {
     "data": {
      "text/plain": [
       "[8, 18, 19, 25, 26, 34]"
      ]
     },
     "execution_count": 7,
     "metadata": {},
     "output_type": "execute_result"
    }
   ],
   "source": [
    "lotto"
   ]
  },
  {
   "cell_type": "markdown",
   "metadata": {},
   "source": [
    "------\n",
    "Q6. RPG게임의 전투 장면을 구현하세요."
   ]
  },
  {
   "cell_type": "code",
   "execution_count": 8,
   "metadata": {},
   "outputs": [
    {
     "name": "stdout",
     "output_type": "stream",
     "text": [
      "몬스터를 6공격함\n",
      "나 2공격 받음\n",
      "몬스터를 1공격함\n",
      "나 5공격 받음\n",
      "몬스터를 3공격함\n",
      "몬스터 격파 성공!!\n"
     ]
    }
   ],
   "source": [
    "import random\n",
    "\n",
    "my_point = 25\n",
    "slime_point = 10\n",
    "\n",
    "index = 0\n",
    "while slime_point > 0 and my_point > 0 :\n",
    "    attack = random.randint(1, 6)\n",
    "    if index % 2 ==0 :\n",
    "        print(\"몬스터를 \" + str(attack) + \"공격함\")\n",
    "        slime_point -= attack\n",
    "    else:\n",
    "        print(\"나 \" + str(attack) + \"공격 받음\")\n",
    "        my_point -= attack\n",
    "    index += 1\n",
    "\n",
    "if my_point > 0:\n",
    "    print(\"몬스터 격파 성공!!\")\n",
    "else:\n",
    "    print(\"game over\")"
   ]
  }
 ],
 "metadata": {
  "kernelspec": {
   "display_name": "Python 3",
   "language": "python",
   "name": "python3"
  },
  "language_info": {
   "codemirror_mode": {
    "name": "ipython",
    "version": 3
   },
   "file_extension": ".py",
   "mimetype": "text/x-python",
   "name": "python",
   "nbconvert_exporter": "python",
   "pygments_lexer": "ipython3",
   "version": "3.7.4"
  }
 },
 "nbformat": 4,
 "nbformat_minor": 2
}
